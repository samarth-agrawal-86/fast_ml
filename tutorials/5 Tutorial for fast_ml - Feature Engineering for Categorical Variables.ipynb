{
 "cells": [
  {
   "cell_type": "markdown",
   "metadata": {},
   "source": [
    "# Tutorial for using the package `fast-ml` \n",
    "\n",
    "This package is as good as having a junior Data Scientist working for you. Most of the commonly used EDA steps, Missing Data Imputation techniques, Feature Engineering steps are covered in a ready to use format"
   ]
  },
  {
   "cell_type": "markdown",
   "metadata": {},
   "source": [
    "## Part 5. Feature Engineering for Categorical Variables / Categorical Encodings\n",
    "\n",
    "\n",
    "\n",
    "#### 1. Import feature engineering module from the package \n",
    "`from fast_ml.feature_engineering import FeatureEngineering_Categorical, FeatureEngineering_Numerical`\n",
    "\n",
    "#### 2. Define the imputer object. \n",
    "* For Categorical variables use `FeatureEngineering_Categorical`\n",
    "* For Numerical variables use `FeatureEngineering_Numerical`\n",
    "\n",
    "`cat_encoder = FeatureEngineering_Categorical(method = 'label')`\n",
    "<br>or<br>\n",
    "`num_encoder = FeatureEngineering_Numerical(method = 'decile')`\n",
    "\n",
    "#### 3. Fit the object on your dataframe and provide a list of variables\n",
    "`cat_encoder.fit(train, variables = ['BsmtQual'])`\n",
    "\n",
    "#### 4. Apply the transform method on train / test dataset\n",
    "`train = cat_encoder.transform(train)`\n",
    "<br>&<br>\n",
    "`test = cat_encoder.transform(test)`\n",
    "\n",
    "#### 5. parameter dictionary gets created which store the values used for encoding. It can be viewed as\n",
    "`cat_encoder.param_dict_`\n"
   ]
  },
  {
   "cell_type": "markdown",
   "metadata": {},
   "source": [
    "### Available Methods for Categorical Encoding\n",
    "\n",
    "\n",
    "1. One-hot Encoding\n",
    "1. Label Encoding / Integer Encoding\n",
    "1. Count Encoding\n",
    "1. Frequeny Encoding\n",
    "1. Ordered Label Encoding\n",
    "\n",
    "<b>Target Based Encoding</b>\n",
    "6. Target Ordered Encoding\n",
    "7. Target Mean Value Encoding\n",
    "8. Target Probability Ratio Encoding (only Classification model)\n",
    "9. Weight of Evidence (WOE) Encoding (only Classification model)"
   ]
  },
  {
   "cell_type": "markdown",
   "metadata": {},
   "source": [
    "## Start Feature Engineering for Categorical Variables"
   ]
  },
  {
   "cell_type": "code",
   "execution_count": 1,
   "metadata": {},
   "outputs": [],
   "source": [
    "# Import Libraries\n",
    "\n",
    "import pandas as pd\n",
    "import numpy as np\n",
    "import matplotlib.pyplot as plt\n",
    "import seaborn as sns\n",
    "\n",
    "from fast_ml.feature_engineering import FeatureEngineering_Categorical\n",
    "\n",
    "%matplotlib inline\n",
    "\n",
    "import warnings\n",
    "warnings.filterwarnings('ignore')"
   ]
  },
  {
   "cell_type": "code",
   "execution_count": 2,
   "metadata": {},
   "outputs": [
    {
     "data": {
      "text/plain": [
       "(891, 12)"
      ]
     },
     "execution_count": 2,
     "metadata": {},
     "output_type": "execute_result"
    }
   ],
   "source": [
    "df = pd.read_csv('../data/titanic.csv')\n",
    "df.shape"
   ]
  },
  {
   "cell_type": "code",
   "execution_count": 59,
   "metadata": {},
   "outputs": [
    {
     "data": {
      "text/html": [
       "<div>\n",
       "<style scoped>\n",
       "    .dataframe tbody tr th:only-of-type {\n",
       "        vertical-align: middle;\n",
       "    }\n",
       "\n",
       "    .dataframe tbody tr th {\n",
       "        vertical-align: top;\n",
       "    }\n",
       "\n",
       "    .dataframe thead th {\n",
       "        text-align: right;\n",
       "    }\n",
       "</style>\n",
       "<table border=\"1\" class=\"dataframe\">\n",
       "  <thead>\n",
       "    <tr style=\"text-align: right;\">\n",
       "      <th></th>\n",
       "      <th>PassengerId</th>\n",
       "      <th>Survived</th>\n",
       "      <th>Pclass</th>\n",
       "      <th>Name</th>\n",
       "      <th>Sex</th>\n",
       "      <th>Age</th>\n",
       "      <th>SibSp</th>\n",
       "      <th>Parch</th>\n",
       "      <th>Ticket</th>\n",
       "      <th>Fare</th>\n",
       "      <th>Cabin</th>\n",
       "      <th>Embarked</th>\n",
       "    </tr>\n",
       "  </thead>\n",
       "  <tbody>\n",
       "    <tr>\n",
       "      <th>0</th>\n",
       "      <td>1</td>\n",
       "      <td>0</td>\n",
       "      <td>3</td>\n",
       "      <td>Braund, Mr. Owen Harris</td>\n",
       "      <td>male</td>\n",
       "      <td>22.0</td>\n",
       "      <td>1</td>\n",
       "      <td>0</td>\n",
       "      <td>A/5 21171</td>\n",
       "      <td>7.2500</td>\n",
       "      <td>NaN</td>\n",
       "      <td>S</td>\n",
       "    </tr>\n",
       "    <tr>\n",
       "      <th>1</th>\n",
       "      <td>2</td>\n",
       "      <td>1</td>\n",
       "      <td>1</td>\n",
       "      <td>Cumings, Mrs. John Bradley (Florence Briggs Th...</td>\n",
       "      <td>female</td>\n",
       "      <td>38.0</td>\n",
       "      <td>1</td>\n",
       "      <td>0</td>\n",
       "      <td>PC 17599</td>\n",
       "      <td>71.2833</td>\n",
       "      <td>C85</td>\n",
       "      <td>C</td>\n",
       "    </tr>\n",
       "    <tr>\n",
       "      <th>2</th>\n",
       "      <td>3</td>\n",
       "      <td>1</td>\n",
       "      <td>3</td>\n",
       "      <td>Heikkinen, Miss. Laina</td>\n",
       "      <td>female</td>\n",
       "      <td>26.0</td>\n",
       "      <td>0</td>\n",
       "      <td>0</td>\n",
       "      <td>STON/O2. 3101282</td>\n",
       "      <td>7.9250</td>\n",
       "      <td>NaN</td>\n",
       "      <td>S</td>\n",
       "    </tr>\n",
       "    <tr>\n",
       "      <th>3</th>\n",
       "      <td>4</td>\n",
       "      <td>1</td>\n",
       "      <td>1</td>\n",
       "      <td>Futrelle, Mrs. Jacques Heath (Lily May Peel)</td>\n",
       "      <td>female</td>\n",
       "      <td>35.0</td>\n",
       "      <td>1</td>\n",
       "      <td>0</td>\n",
       "      <td>113803</td>\n",
       "      <td>53.1000</td>\n",
       "      <td>C123</td>\n",
       "      <td>S</td>\n",
       "    </tr>\n",
       "    <tr>\n",
       "      <th>4</th>\n",
       "      <td>5</td>\n",
       "      <td>0</td>\n",
       "      <td>3</td>\n",
       "      <td>Allen, Mr. William Henry</td>\n",
       "      <td>male</td>\n",
       "      <td>35.0</td>\n",
       "      <td>0</td>\n",
       "      <td>0</td>\n",
       "      <td>373450</td>\n",
       "      <td>8.0500</td>\n",
       "      <td>NaN</td>\n",
       "      <td>S</td>\n",
       "    </tr>\n",
       "  </tbody>\n",
       "</table>\n",
       "</div>"
      ],
      "text/plain": [
       "   PassengerId  Survived  Pclass  \\\n",
       "0            1         0       3   \n",
       "1            2         1       1   \n",
       "2            3         1       3   \n",
       "3            4         1       1   \n",
       "4            5         0       3   \n",
       "\n",
       "                                                Name     Sex   Age  SibSp  \\\n",
       "0                            Braund, Mr. Owen Harris    male  22.0      1   \n",
       "1  Cumings, Mrs. John Bradley (Florence Briggs Th...  female  38.0      1   \n",
       "2                             Heikkinen, Miss. Laina  female  26.0      0   \n",
       "3       Futrelle, Mrs. Jacques Heath (Lily May Peel)  female  35.0      1   \n",
       "4                           Allen, Mr. William Henry    male  35.0      0   \n",
       "\n",
       "   Parch            Ticket     Fare Cabin Embarked  \n",
       "0      0         A/5 21171   7.2500   NaN        S  \n",
       "1      0          PC 17599  71.2833   C85        C  \n",
       "2      0  STON/O2. 3101282   7.9250   NaN        S  \n",
       "3      0            113803  53.1000  C123        S  \n",
       "4      0            373450   8.0500   NaN        S  "
      ]
     },
     "execution_count": 59,
     "metadata": {},
     "output_type": "execute_result"
    }
   ],
   "source": [
    "df.head(5)"
   ]
  },
  {
   "cell_type": "code",
   "execution_count": 7,
   "metadata": {},
   "outputs": [],
   "source": [
    "numeric_type = ['float64', 'int64']\n",
    "category_type = ['object']"
   ]
  },
  {
   "cell_type": "markdown",
   "metadata": {},
   "source": [
    "## Categorical Variables"
   ]
  },
  {
   "cell_type": "markdown",
   "metadata": {},
   "source": [
    "## Step 1 : Rare Encoding the variables"
   ]
  },
  {
   "cell_type": "code",
   "execution_count": 29,
   "metadata": {},
   "outputs": [],
   "source": [
    "rare_encode = ['BsmtQual', 'FireplaceQu']"
   ]
  },
  {
   "cell_type": "code",
   "execution_count": 30,
   "metadata": {},
   "outputs": [
    {
     "name": "stdout",
     "output_type": "stream",
     "text": [
      "TA         649\n",
      "Gd         618\n",
      "Ex         121\n",
      "Missing     37\n",
      "Fa          35\n",
      "Name: BsmtQual, dtype: int64\n",
      "Missing    690\n",
      "Gd         380\n",
      "TA         313\n",
      "Fa          33\n",
      "Ex          24\n",
      "Po          20\n",
      "Name: FireplaceQu, dtype: int64\n"
     ]
    }
   ],
   "source": [
    "for var in rare_encode:\n",
    "    df[var].fillna('Missing', inplace = True)\n",
    "    print(df[var].value_counts())"
   ]
  },
  {
   "cell_type": "code",
   "execution_count": 5,
   "metadata": {},
   "outputs": [
    {
     "data": {
      "text/plain": [
       "{'BsmtQual': {'TA': 0.44452054794520546,\n",
       "  'Gd': 0.4232876712328767,\n",
       "  'Ex': 0.08287671232876713,\n",
       "  'Missing': 0.025342465753424658,\n",
       "  'Fa': 0.023972602739726026},\n",
       " 'FireplaceQu': {'Missing': 0.4726027397260274,\n",
       "  'Gd': 0.2602739726027397,\n",
       "  'TA': 0.21438356164383562,\n",
       "  'Fa': 0.022602739726027398,\n",
       "  'Ex': 0.01643835616438356,\n",
       "  'Po': 0.0136986301369863}}"
      ]
     },
     "execution_count": 5,
     "metadata": {},
     "output_type": "execute_result"
    }
   ],
   "source": [
    "rare_encoder = FeatureEngineering_Categorical(method='rare', rare_tol=0.05)\n",
    "rare_encoder.fit(df, variables = rare_encode)\n",
    "rare_encoder.param_dict_"
   ]
  },
  {
   "cell_type": "code",
   "execution_count": 6,
   "metadata": {},
   "outputs": [],
   "source": [
    "df = rare_encoder.transform(df)"
   ]
  },
  {
   "cell_type": "code",
   "execution_count": 7,
   "metadata": {},
   "outputs": [
    {
     "name": "stdout",
     "output_type": "stream",
     "text": [
      "TA      649\n",
      "Gd      618\n",
      "Ex      121\n",
      "Rare     72\n",
      "Name: BsmtQual, dtype: int64\n",
      "Missing    690\n",
      "Gd         380\n",
      "TA         313\n",
      "Rare        77\n",
      "Name: FireplaceQu, dtype: int64\n"
     ]
    }
   ],
   "source": [
    "for var in rare_encode:\n",
    "    print(df[var].value_counts())"
   ]
  },
  {
   "cell_type": "markdown",
   "metadata": {},
   "source": [
    "## Step 2 : Encoding the Variables in Numeric values"
   ]
  },
  {
   "cell_type": "markdown",
   "metadata": {},
   "source": [
    "### 1. BsmtQual "
   ]
  },
  {
   "cell_type": "code",
   "execution_count": 8,
   "metadata": {},
   "outputs": [
    {
     "data": {
      "text/plain": [
       "TA      649\n",
       "Gd      618\n",
       "Ex      121\n",
       "Rare     72\n",
       "Name: BsmtQual, dtype: int64"
      ]
     },
     "execution_count": 8,
     "metadata": {},
     "output_type": "execute_result"
    }
   ],
   "source": [
    "#Before Imputation\n",
    "df['BsmtQual'].value_counts()"
   ]
  },
  {
   "cell_type": "code",
   "execution_count": 9,
   "metadata": {},
   "outputs": [],
   "source": [
    "cat_encoder1 = FeatureEngineering_Categorical(method = 'label')\n",
    "cat_encoder1.fit(df, variables = ['BsmtQual'])"
   ]
  },
  {
   "cell_type": "code",
   "execution_count": 10,
   "metadata": {},
   "outputs": [
    {
     "data": {
      "text/plain": [
       "{'BsmtQual': {'Gd': 0, 'TA': 1, 'Ex': 2, 'Rare': 3}}"
      ]
     },
     "execution_count": 10,
     "metadata": {},
     "output_type": "execute_result"
    }
   ],
   "source": [
    "cat_encoder1.param_dict_"
   ]
  },
  {
   "cell_type": "code",
   "execution_count": 11,
   "metadata": {},
   "outputs": [],
   "source": [
    "df = cat_encoder1.transform(df)"
   ]
  },
  {
   "cell_type": "code",
   "execution_count": 12,
   "metadata": {},
   "outputs": [
    {
     "data": {
      "text/plain": [
       "1    649\n",
       "0    618\n",
       "2    121\n",
       "3     72\n",
       "Name: BsmtQual, dtype: int64"
      ]
     },
     "execution_count": 12,
     "metadata": {},
     "output_type": "execute_result"
    }
   ],
   "source": [
    "#After Imputation\n",
    "df['BsmtQual'].value_counts()"
   ]
  },
  {
   "cell_type": "markdown",
   "metadata": {},
   "source": [
    "### 2. FireplaceQu"
   ]
  },
  {
   "cell_type": "code",
   "execution_count": 3,
   "metadata": {},
   "outputs": [
    {
     "data": {
      "text/plain": [
       "Missing    690\n",
       "Gd         380\n",
       "TA         313\n",
       "Fa          33\n",
       "Ex          24\n",
       "Po          20\n",
       "Name: FireplaceQu, dtype: int64"
      ]
     },
     "execution_count": 3,
     "metadata": {},
     "output_type": "execute_result"
    }
   ],
   "source": [
    "df = pd.read_csv('../data/house_prices.csv')\n",
    "df['FireplaceQu'].fillna('Missing', inplace = True)\n",
    "\n",
    "#Before Imputation\n",
    "df['FireplaceQu'].value_counts()"
   ]
  },
  {
   "cell_type": "code",
   "execution_count": 4,
   "metadata": {},
   "outputs": [
    {
     "name": "stdout",
     "output_type": "stream",
     "text": [
      "{'FireplaceQu': {'Ex': 337712.5, 'Fa': 167298.48484848486, 'Gd': 226351.41578947369, 'Missing': 141331.48260869566, 'Po': 129764.15, 'TA': 205723.48881789137}}\n"
     ]
    }
   ],
   "source": [
    "cat_encoder2 = FeatureEngineering_Categorical(method = 'target_mean')\n",
    "cat_encoder2.fit(df, variables = ['FireplaceQu'],target = 'SalePrice')\n",
    "\n",
    "print (cat_encoder2.param_dict_)\n",
    "\n",
    "df = cat_encoder2.transform(df)"
   ]
  },
  {
   "cell_type": "code",
   "execution_count": 5,
   "metadata": {},
   "outputs": [
    {
     "data": {
      "text/plain": [
       "141331.482609    690\n",
       "226351.415789    380\n",
       "205723.488818    313\n",
       "167298.484848     33\n",
       "337712.500000     24\n",
       "129764.150000     20\n",
       "Name: FireplaceQu, dtype: int64"
      ]
     },
     "execution_count": 5,
     "metadata": {},
     "output_type": "execute_result"
    }
   ],
   "source": [
    "#After Imputation\n",
    "df['FireplaceQu'].value_counts()"
   ]
  },
  {
   "cell_type": "markdown",
   "metadata": {},
   "source": [
    "----"
   ]
  },
  {
   "cell_type": "markdown",
   "metadata": {},
   "source": [
    "## Classification Model - Target based Encoding"
   ]
  },
  {
   "cell_type": "code",
   "execution_count": 6,
   "metadata": {},
   "outputs": [
    {
     "name": "stdout",
     "output_type": "stream",
     "text": [
      "Before Imputation\n",
      "S          644\n",
      "C          168\n",
      "Q           77\n",
      "Missing      2\n",
      "Name: Embarked, dtype: int64\n",
      "Parameter Dictionary\n",
      "{'Embarked': {'C': 1.2400000000000002, 'Missing': inf, 'Q': 0.6382978723404256, 'S': 0.5081967213114753}}\n",
      "After Imputation\n",
      "0.508197    644\n",
      "1.240000    168\n",
      "0.638298     77\n",
      "inf           2\n",
      "Name: Embarked, dtype: int64\n"
     ]
    }
   ],
   "source": [
    "df = pd.read_csv('../data/titanic.csv')\n",
    "df['Embarked'].fillna('Missing', inplace = True)\n",
    "\n",
    "#Before Imputation\n",
    "print('Before Imputation')\n",
    "print(df['Embarked'].value_counts())\n",
    "\n",
    "cat_encoder3 = FeatureEngineering_Categorical(model='clf', method = 'target_prob_ratio')\n",
    "cat_encoder3.fit(df, variables = ['Embarked'],target = 'Survived')\n",
    "\n",
    "print('Parameter Dictionary')\n",
    "print(cat_encoder3.param_dict_)\n",
    "\n",
    "df = cat_encoder3.transform(df)\n",
    "\n",
    "#After Imputation\n",
    "print('After Imputation')\n",
    "print(df['Embarked'].value_counts())"
   ]
  },
  {
   "cell_type": "code",
   "execution_count": null,
   "metadata": {},
   "outputs": [],
   "source": []
  }
 ],
 "metadata": {
  "kernelspec": {
   "display_name": "Python 3",
   "language": "python",
   "name": "python3"
  },
  "language_info": {
   "codemirror_mode": {
    "name": "ipython",
    "version": 3
   },
   "file_extension": ".py",
   "mimetype": "text/x-python",
   "name": "python",
   "nbconvert_exporter": "python",
   "pygments_lexer": "ipython3",
   "version": "3.7.6"
  }
 },
 "nbformat": 4,
 "nbformat_minor": 2
}
